{
 "cells": [
  {
   "cell_type": "markdown",
   "metadata": {},
   "source": [
    "# Exercise1"
   ]
  },
  {
   "cell_type": "code",
   "execution_count": 29,
   "metadata": {},
   "outputs": [
    {
     "name": "stdout",
     "output_type": "stream",
     "text": [
      "check if apples in ingredients:   False\n",
      "check if butter in ingredients:   True\n",
      "check if eggs in ingredients:   True\n",
      "check if eggs or margarine in ingredients:   True\n",
      "check if eggs and margarine in ingredients:   False\n",
      "\n",
      " Print Variables type \n",
      " flour: <class 'int'>\n",
      " butter: <class 'int'>\n",
      " sugar: <class 'str'>\n",
      " eggs: <class 'int'>\n",
      " cocoa_powder: <class 'str'>\n",
      " baking_powde: <class 'float'>\n",
      "\n",
      " Print Variables value \n",
      " flour: 175\n",
      " butter: 175\n",
      " sugar: 100g\n",
      " eggs: 2\n",
      " cocoa_powder: 1ts\n",
      " baking_powde: 0\n"
     ]
    }
   ],
   "source": [
    "#set varaiables\n",
    "project = \"cake\"\n",
    "difficulty = 3\n",
    "ingredients = [\"flour\", \"butter\", \"sugar\", \"eggs\", \"cocoa powder\", \"baking powder\"]\n",
    "flour,butter,sugar,eggs,cocoa_powder,baking_powde = 175,175,\"100g\",2,\"1ts\",0.5\n",
    "\n",
    "#check if apples in ingredients\n",
    "print('check if apples in ingredients:  ', \"apples\" in ingredients)\n",
    "\n",
    "#check if butter in ingredients\n",
    "print('check if butter in ingredients:  ', \"butter\" in ingredients)\n",
    "\n",
    "#check if eggs in ingredients\n",
    "print('check if eggs in ingredients:  ', \"eggs\" in ingredients)\n",
    "\n",
    "#check if eggs or margarin in ingredients\n",
    "print('check if eggs or margarine in ingredients:  ', (\"eggs\" in ingredients) or (\"margarine\" in ingredients) )\n",
    "\n",
    "#check if eggs and margarin in ingredients\n",
    "print('check if eggs and margarine in ingredients:  ', (\"eggs\" in ingredients) and (\"margarine\" in ingredients) )\n",
    "\n",
    "\n",
    "print(\"\\n Print Variables type \\n flour: %s\\n butter: %s\\n sugar: %s\\n eggs: %s\\n cocoa_powder: %s\\n baking_powde: %s\" % (\n",
    "    type(flour), type(butter), type(sugar), type(eggs), type(cocoa_powder), type(baking_powde)))\n",
    "\n",
    "print(\"\\n Print Variables value \\n flour: %d\\n butter: %d\\n sugar: %s\\n eggs: %d\\n cocoa_powder: %s\\n baking_powde: %f\" % (\n",
    "    flour, butter, sugar, eggs, cocoa_powder, baking_powde))"
   ]
  },
  {
   "cell_type": "markdown",
   "metadata": {},
   "source": [
    "# Exercise2"
   ]
  },
  {
   "cell_type": "code",
   "execution_count": 3,
   "metadata": {},
   "outputs": [
    {
     "name": "stdout",
     "output_type": "stream",
     "text": [
      "1003.0\n",
      "852\n"
     ]
    }
   ],
   "source": [
    "a,b,c = 15,8,2\n",
    "print(5*(a**2)-a*b+a%2-a/5) \n",
    "print(b**3+3*a*b-10*c) "
   ]
  },
  {
   "cell_type": "markdown",
   "metadata": {},
   "source": [
    "# Exercise4"
   ]
  },
  {
   "cell_type": "code",
   "execution_count": 1,
   "metadata": {},
   "outputs": [
    {
     "name": "stdout",
     "output_type": "stream",
     "text": [
      "My birthday: 1984-08-07\n",
      "My birthday year: 1984\n",
      "My birthday month: 8\n",
      "My birthday day: 7\n",
      "Day of week of my birthday: 2\n",
      "Days unti my next birthday: 320 days, 0:00:00\n",
      "\n",
      "Calendar of May 2017\n",
      "       May 2017\n",
      "Mo Tu We Th Fr Sa Su\n",
      " 1  2  3  4  5  6  7\n",
      " 8  9 10 11 12 13 14\n",
      "15 16 17 18 19 20 21\n",
      "22 23 24 25 26 27 28\n",
      "29 30 31\n",
      "\n",
      "Yesterday 2018-09-20, Current Time 21:03:57.333065\n",
      "Yesterday + 2 2018-09-22\n",
      "Yesterday - 3 2018-09-17\n"
     ]
    }
   ],
   "source": [
    "import time\n",
    "import calendar\n",
    "import datetime\n",
    "\n",
    "birthday = datetime.date(1984, 8, 7)\n",
    "nextyearbirthday =  datetime.date(2019, 8, 7)\n",
    "today =  datetime.date.today()\n",
    "deltaday = datetime.timedelta(days = 1)\n",
    "print(\"My birthday: %s\" % birthday)\n",
    "print(\"My birthday year: %s\" % birthday.year)\n",
    "print(\"My birthday month: %s\" % birthday.month)\n",
    "print(\"My birthday day: %s\" % birthday.day)\n",
    "print(\"Day of week of my birthday: %s\" % birthday.isoweekday())\n",
    "print(\"Days unti my next birthday: %s\\n\" % (nextyearbirthday-today))\n",
    "print(\"Calendar of May 2017\\n %s\" % calendar.month(2017, 5))\n",
    "print(\"Yesterday %s, Current Time %s\" % (str(today - deltaday), str(datetime.datetime.time(datetime.datetime.now()))))\n",
    "print(\"Yesterday + 2 %s\" % str((today - datetime.timedelta(days = 1)) + datetime.timedelta(days = 2)))\n",
    "print(\"Yesterday - 3 %s\" % str((today - datetime.timedelta(days = 1)) - datetime.timedelta(days = 3)))\n"
   ]
  },
  {
   "cell_type": "markdown",
   "metadata": {},
   "source": [
    "# Additional Exercise"
   ]
  },
  {
   "cell_type": "code",
   "execution_count": 3,
   "metadata": {},
   "outputs": [
    {
     "name": "stdout",
     "output_type": "stream",
     "text": [
      "Print Odd and Even numbers from list\n",
      "Number 3 is Odd\n",
      "Number 5 is Odd\n",
      "Number 6 is Even\n",
      "Number 8 is Even\n"
     ]
    }
   ],
   "source": [
    "print(\"Print Odd and Even numbers from list\")\n",
    "for i in [3,5,6,8]:\n",
    "    if i%2 == 0:\n",
    "        print(\"Number %d is Even\" % i)\n",
    "    else:\n",
    "        print(\"Number %d is Odd\" % i)"
   ]
  },
  {
   "cell_type": "code",
   "execution_count": null,
   "metadata": {},
   "outputs": [],
   "source": []
  },
  {
   "cell_type": "code",
   "execution_count": null,
   "metadata": {},
   "outputs": [],
   "source": []
  }
 ],
 "metadata": {
  "kernelspec": {
   "display_name": "Python 3",
   "language": "python",
   "name": "python3"
  },
  "language_info": {
   "codemirror_mode": {
    "name": "ipython",
    "version": 3
   },
   "file_extension": ".py",
   "mimetype": "text/x-python",
   "name": "python",
   "nbconvert_exporter": "python",
   "pygments_lexer": "ipython3",
   "version": "3.6.5"
  }
 },
 "nbformat": 4,
 "nbformat_minor": 2
}
