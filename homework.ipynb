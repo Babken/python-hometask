{
 "cells": [
  {
   "cell_type": "markdown",
   "metadata": {},
   "source": [
    "# Lists"
   ]
  },
  {
   "cell_type": "code",
   "execution_count": 18,
   "metadata": {},
   "outputs": [
    {
     "name": "stdout",
     "output_type": "stream",
     "text": [
      "3rd: 5 \n",
      "5d: 8 \n",
      "Sorted list [-2, -1, 0, 1, 4, 5, 7, 8]\n",
      "1..3: [-1, 0, 1]\n",
      "2..6: [0, 1, 4, 5, 7]\n",
      "index of 5: 5\n",
      "print a_sorted list after removing elements with 2nd and 3rd indexes:  [-2, -1, 1, 5, 7, 8]\n",
      "Concatenation sublists of a and b [4, 5, 7, 'Lemon', 'Broccoli', 'Carrot']:  \n"
     ]
    }
   ],
   "source": [
    "#1)\n",
    "a = [1,4,5,7,8,-2,0,-1]\n",
    "\n",
    "#2)\n",
    "print(\"3rd: %d \\n5d: %d \" % (a[2],a[4]))\n",
    "\n",
    "#3)\n",
    "a_sorted = sorted(a) #3)\n",
    "print(\"Sorted list %s\" % a_sorted)\n",
    "\n",
    "#4)\n",
    "print(\"1..3: %s\" % a_sorted[1:4])\n",
    "print(\"2..6: %s\" % a_sorted[2:7])\n",
    "\n",
    "#5)\n",
    "print(\"index of 5: %d\" % a_sorted.index(5))\n",
    "\n",
    "#6)\n",
    "a_sorted.pop(2)\n",
    "a_sorted.pop(3)\n",
    "\n",
    "#7)\n",
    "print(\"print a_sorted list after removing elements with 2nd and 3rd indexes:  %s\" % a_sorted)\n",
    "\n",
    "#8)\n",
    "b = [\"grapes\", \"Potatoes\",\"tomatoes\", \"Orange\", \"Lemon\", \"Broccoli\", \"Carrot\", \"Sausages\"]\n",
    "\n",
    "#9)\n",
    "b_sorted = sorted(b, reverse=True)\n",
    "\n",
    "#10)\n",
    "c = a[1:4] + b[4:7]\n",
    "\n",
    "#11)\n",
    "print(\"Concatenation sublists of a and b %s:  \" % c)\n",
    "\n",
    "\n",
    "\n",
    "\n",
    "\n"
   ]
  },
  {
   "cell_type": "markdown",
   "metadata": {},
   "source": [
    "# Sets"
   ]
  },
  {
   "cell_type": "code",
   "execution_count": 32,
   "metadata": {},
   "outputs": [
    {
     "name": "stdout",
     "output_type": "stream",
     "text": [
      "{False, True, 8, 10, 'Chocolate', 'Milk', 'Kit-Kat', 'Cookies', 14, 'Jelly', -5, -3}\n",
      "{False, True, 8, 10, 'Chocolate', 'Milk', 'Kit-Kat', 'Cookies', 14, 'Jelly', 'Oreo', -5, -3}\n",
      "{False, True, 8, 10, 'Chocolate', 'Milk', 'Kit-Kat', 'Cookies', 14, 'Jelly', -5, -3}\n"
     ]
    }
   ],
   "source": [
    "#1)\n",
    "a1 = [\"Cookies\", \"Chocolate\", 8, True, -3, -5, \"Chocolate\", 8, False, 8]\n",
    "\n",
    "#2)\n",
    "b1 = [8, True, 10, 14, \"Chocolate\", \"Milk\", \"Jelly\", True, False, True]\n",
    "\n",
    "#3)\n",
    "set_a = set(a1)\n",
    "\n",
    "#4)\n",
    "set_b = set(b1)\n",
    "\n",
    "#5)\n",
    "union_ab = set_a.union(set_b)\n",
    "\n",
    "#6)\n",
    "intersection_ab = set_a.intersection(set_b)\n",
    "\n",
    "#7)\n",
    "union_ab.add(\"Kit-Kat\")\n",
    "intersection_ab.add(\"Oreo\")\n",
    "print(union_ab)\n",
    "\n",
    "#8)\n",
    "new_set = union_ab | intersection_ab\n",
    "print(new_set)\n",
    "\n",
    "#9)\n",
    "\"Chocolate\" in new_set\n",
    "\n",
    "#10)\n",
    "new_set.discard(\"Oreo\")\n",
    "print(new_set)\n"
   ]
  },
  {
   "cell_type": "markdown",
   "metadata": {},
   "source": [
    "# Tuples"
   ]
  },
  {
   "cell_type": "code",
   "execution_count": 44,
   "metadata": {},
   "outputs": [
    {
     "name": "stdout",
     "output_type": "stream",
     "text": [
      "(True, 'a', -2, 'Anna')\n",
      "(True, 'a', 1, 2, 3)\n",
      "3\n"
     ]
    }
   ],
   "source": [
    "#1)\n",
    "t1 = (1, True, \"a\", -2, \"Anna\")\n",
    "\n",
    "#2)\n",
    "t1 = list(t1)\n",
    "t1.remove(True)\n",
    "t1 = tuple(t1)\n",
    "print(t1)\n",
    "\n",
    "#3)\n",
    "t2 = (1, 2, 3, 4, 5)\n",
    "\n",
    "#4)\n",
    "t3 = t1[:2] + t2[:3]\n",
    "\n",
    "#5)\n",
    "print(t3)\n",
    "\n",
    "#6)\n",
    "\n",
    "t4 = [(1,3,5), (8,9), (\"Anna\", \"Bob\", \"Alice\")]\n",
    "print(t4[0][1])"
   ]
  },
  {
   "cell_type": "code",
   "execution_count": null,
   "metadata": {},
   "outputs": [],
   "source": []
  }
 ],
 "metadata": {
  "kernelspec": {
   "display_name": "Python 3",
   "language": "python",
   "name": "python3"
  },
  "language_info": {
   "codemirror_mode": {
    "name": "ipython",
    "version": 3
   },
   "file_extension": ".py",
   "mimetype": "text/x-python",
   "name": "python",
   "nbconvert_exporter": "python",
   "pygments_lexer": "ipython3",
   "version": "3.6.5"
  }
 },
 "nbformat": 4,
 "nbformat_minor": 2
}
