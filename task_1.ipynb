{
 "cells": [
  {
   "cell_type": "code",
   "execution_count": 2,
   "metadata": {},
   "outputs": [
    {
     "name": "stdout",
     "output_type": "stream",
     "text": [
      "babken 19\n",
      "babken 19\n"
     ]
    }
   ],
   "source": [
    "a = 19\n",
    "b = \"babken\"\n",
    "print(b,a)\n",
    "\n",
    "a,b = 19,\"babken\"\n",
    "print(b,a)"
   ]
  },
  {
   "cell_type": "code",
   "execution_count": 3,
   "metadata": {},
   "outputs": [],
   "source": []
  },
  {
   "cell_type": "code",
   "execution_count": 8,
   "metadata": {},
   "outputs": [
    {
     "name": "stdout",
     "output_type": "stream",
     "text": [
      "course:  Intro to Python\n",
      "student:  Babken Asoyan\n",
      "nikname:  Babken\n",
      "grade:  57\n",
      "pythonExpert:  True\n"
     ]
    }
   ],
   "source": [
    "course=\"Intro to Python\"\n",
    "student=\"Babken Asoyan\"\n",
    "nikname=\"Babken\"\n",
    "grade=57\n",
    "pyhthonExpert=True\n",
    "\n",
    "print(\"course: \", course)\n",
    "print(\"student: \", student)\n",
    "print(\"nikname: \", nikname)\n",
    "print(\"grade: \", grade)\n",
    "print(\"pythonExpert: \", pyhthonExpert)"
   ]
  },
  {
   "cell_type": "code",
   "execution_count": 19,
   "metadata": {},
   "outputs": [
    {
     "name": "stdout",
     "output_type": "stream",
     "text": [
      "The hypotenuse of the triangle ABC : 5.0\n"
     ]
    }
   ],
   "source": [
    "import math\n",
    "AB,AC=3,4\n",
    "BC=AB**2+AC**2\n",
    "sqrt=math.sqrt(BC)\n",
    "print(\"The hypotenuse of the triangle ABC :\", sqrt)"
   ]
  },
  {
   "cell_type": "code",
   "execution_count": null,
   "metadata": {},
   "outputs": [],
   "source": []
  }
 ],
 "metadata": {
  "kernelspec": {
   "display_name": "Python 3",
   "language": "python",
   "name": "python3"
  },
  "language_info": {
   "codemirror_mode": {
    "name": "ipython",
    "version": 3
   },
   "file_extension": ".py",
   "mimetype": "text/x-python",
   "name": "python",
   "nbconvert_exporter": "python",
   "pygments_lexer": "ipython3",
   "version": "3.6.5"
  }
 },
 "nbformat": 4,
 "nbformat_minor": 2
}
